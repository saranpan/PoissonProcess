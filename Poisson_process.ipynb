{
  "nbformat": 4,
  "nbformat_minor": 0,
  "metadata": {
    "colab": {
      "name": "Poisson process",
      "provenance": [],
      "collapsed_sections": [],
      "include_colab_link": true
    },
    "kernelspec": {
      "name": "python3",
      "display_name": "Python 3"
    },
    "language_info": {
      "name": "python"
    }
  },
  "cells": [
    {
      "cell_type": "markdown",
      "metadata": {
        "id": "view-in-github",
        "colab_type": "text"
      },
      "source": [
        "<a href=\"https://colab.research.google.com/github/wallik2/PoissonProcess/blob/master/Poisson_process.ipynb\" target=\"_parent\"><img src=\"https://colab.research.google.com/assets/colab-badge.svg\" alt=\"Open In Colab\"/></a>"
      ]
    },
    {
      "cell_type": "markdown",
      "metadata": {
        "id": "jNDdUsAqV6Ga"
      },
      "source": [
        "<fieldset>\n",
        "\n",
        "**This notebook was dedicated for the student who are following the lecture Poisson process, and want to learn to code from scratch, so you can get the automation sense of creating them as automatic poisson process machine**\n",
        "\n",
        "                                 -Saran Pannasuriyaporn-"
      ]
    },
    {
      "cell_type": "markdown",
      "metadata": {
        "id": "_zLJdDuI4YZM"
      },
      "source": [
        "![](http://24.media.tumblr.com/2a36ba2a3016572f698ec19ad0051a39/tumblr_mrg3g8Nkbx1swdfc0o1_500.gif)"
      ]
    },
    {
      "cell_type": "markdown",
      "metadata": {
        "id": "Nh4nj0w3Ktnr"
      },
      "source": [
        "ref : https://www.youtube.com/watch?v=jsqSScywvMc"
      ]
    },
    {
      "cell_type": "markdown",
      "metadata": {
        "id": "rGRbLNfa4dYm"
      },
      "source": [
        "Let's start !!!"
      ]
    },
    {
      "cell_type": "markdown",
      "metadata": {
        "id": "iamd4t4uS4g7"
      },
      "source": [
        "# Arrival count"
      ]
    },
    {
      "cell_type": "markdown",
      "metadata": {
        "id": "mNm344SuioY_"
      },
      "source": [
        "- like the binomial distribution, but N is infinitely high, and p is infinitely small\n",
        "\n",
        "- λ = np\n",
        "\n",
        "- This mean the rate of approach to infinity of both n and p are the same, then λ is 1"
      ]
    },
    {
      "cell_type": "markdown",
      "metadata": {
        "id": "aX99Vh87i_B_"
      },
      "source": [
        "- p as the probability of success for the extremely small interval (δ)\n",
        "- n as the number of increment (τ/δ)"
      ]
    },
    {
      "cell_type": "code",
      "metadata": {
        "id": "w5YTmsKPGO7l"
      },
      "source": [
        "# The very small interval (δ) [the more small, the better precisely it is]\n",
        "\n",
        "δ = 1e-3\n",
        "\n",
        "# arrival rate (intense rate per τ)\n",
        "\n",
        "#given 120 ppl comes in 60 minutes\n",
        "#given τ = 60 minute\n",
        "\n",
        "λ = 120/60\n",
        "τ = 60"
      ],
      "execution_count": null,
      "outputs": []
    },
    {
      "cell_type": "code",
      "metadata": {
        "colab": {
          "base_uri": "https://localhost:8080/"
        },
        "id": "C9WskobrJ2M1",
        "outputId": "b1993b4a-241b-4bc6-da7c-b47cf0ecc6ab"
      },
      "source": [
        "# Expected value of number of arrival per δ\n",
        "\n",
        "print(f'the expected value of the number of arrival from (0,δ] : {δ*λ}')\n",
        "print(f'the variance of the number of arrival from (0,δ] : {δ*λ}')"
      ],
      "execution_count": null,
      "outputs": [
        {
          "output_type": "stream",
          "name": "stdout",
          "text": [
            "the expected value of the number of arrival from (0,δ] : 0.002\n",
            "the variance of the number of arrival from (0,δ] : 0.002\n"
          ]
        }
      ]
    },
    {
      "cell_type": "code",
      "metadata": {
        "id": "rRImunhuLqfk"
      },
      "source": [
        "p = δ*λ\n",
        "\n",
        "m = int(τ/δ)"
      ],
      "execution_count": null,
      "outputs": []
    },
    {
      "cell_type": "markdown",
      "metadata": {
        "id": "wcJAzyRgLQIx"
      },
      "source": [
        "\n",
        "\n",
        "---\n",
        "\n"
      ]
    },
    {
      "cell_type": "code",
      "metadata": {
        "id": "StA2jp_4LaJF"
      },
      "source": [
        "from numpy import random, where"
      ],
      "execution_count": null,
      "outputs": []
    },
    {
      "cell_type": "code",
      "metadata": {
        "id": "mujxAnPpNHwT"
      },
      "source": [
        "random.seed(42)"
      ],
      "execution_count": null,
      "outputs": []
    },
    {
      "cell_type": "code",
      "metadata": {
        "id": "yXqAT_jWLTVI"
      },
      "source": [
        "simulatation = random.binomial(1,p,m)"
      ],
      "execution_count": null,
      "outputs": []
    },
    {
      "cell_type": "code",
      "metadata": {
        "id": "k5CAruxqMqMb"
      },
      "source": [
        "count_one = where(simulatation == 1)[0].shape[0]\n",
        "\n",
        "count_zero = m-count_one"
      ],
      "execution_count": null,
      "outputs": []
    },
    {
      "cell_type": "code",
      "metadata": {
        "colab": {
          "base_uri": "https://localhost:8080/"
        },
        "id": "Evv92YtJNUjG",
        "outputId": "6319b1ad-582c-47cb-ba36-d92659e59c79"
      },
      "source": [
        "# Estimated of probability of count = one\n",
        "\n",
        "count_one/m"
      ],
      "execution_count": null,
      "outputs": [
        {
          "output_type": "execute_result",
          "data": {
            "text/plain": [
              "0.0018833333333333334"
            ]
          },
          "metadata": {},
          "execution_count": 8
        }
      ]
    },
    {
      "cell_type": "code",
      "metadata": {
        "colab": {
          "base_uri": "https://localhost:8080/"
        },
        "id": "0PRY-73-OASW",
        "outputId": "033edf2c-41e1-4f5a-846d-77dc74eaeadc"
      },
      "source": [
        "# True probability of count = one\n",
        "\n",
        "δ"
      ],
      "execution_count": null,
      "outputs": [
        {
          "output_type": "execute_result",
          "data": {
            "text/plain": [
              "0.001"
            ]
          },
          "metadata": {},
          "execution_count": 9
        }
      ]
    },
    {
      "cell_type": "markdown",
      "metadata": {
        "id": "RI_wGgmFORij"
      },
      "source": [
        "\n",
        "\n",
        "---\n",
        "\n"
      ]
    },
    {
      "cell_type": "code",
      "metadata": {
        "colab": {
          "base_uri": "https://localhost:8080/"
        },
        "id": "XX-VAwfSOSei",
        "outputId": "72f15b30-a36e-4b46-cee6-099f55e5a974"
      },
      "source": [
        "# Simulation\n",
        "\n",
        "print(f'the total number of arrival : {count_one}')"
      ],
      "execution_count": null,
      "outputs": [
        {
          "output_type": "stream",
          "name": "stdout",
          "text": [
            "the total number of arrival : 113\n"
          ]
        }
      ]
    },
    {
      "cell_type": "markdown",
      "metadata": {
        "id": "2lQaOSmCOp4j"
      },
      "source": [
        "\n",
        "\n",
        "---\n",
        "\n"
      ]
    },
    {
      "cell_type": "markdown",
      "metadata": {
        "id": "HmwVx69iPDjL"
      },
      "source": [
        "Example 1 :"
      ]
    },
    {
      "cell_type": "markdown",
      "metadata": {
        "id": "XGdQ9cyGTj2-"
      },
      "source": [
        "Warning : Try high k is not recommended, due to the overflow of factorial(k)"
      ]
    },
    {
      "cell_type": "code",
      "metadata": {
        "id": "ziOgM1jHPDOj"
      },
      "source": [
        "from scipy.special import factorial \n",
        "from numpy import e"
      ],
      "execution_count": null,
      "outputs": []
    },
    {
      "cell_type": "code",
      "metadata": {
        "id": "2aUytg3NOkVG"
      },
      "source": [
        "# Ex 1 :The probability of getting 6 arrival in 15 minutes\n",
        "# Given the number of arrival follows Poisson distribution\n",
        "\n",
        "k, t = 6, 15"
      ],
      "execution_count": null,
      "outputs": []
    },
    {
      "cell_type": "code",
      "metadata": {
        "id": "f6EV70nzQluI"
      },
      "source": [
        "# Poisson distribution given k,t\n",
        "def p(k,t):\n",
        "  return (  ( e**(-λ*t) *  (λ*t)**k  )/ factorial(k)  )"
      ],
      "execution_count": null,
      "outputs": []
    },
    {
      "cell_type": "code",
      "metadata": {
        "colab": {
          "base_uri": "https://localhost:8080/"
        },
        "id": "oJrH6xETQIC3",
        "outputId": "4771a5e8-2720-42d3-8d44-5e2826a4dcce"
      },
      "source": [
        "# Solution :\n",
        "\n",
        "print(f'the probability that there will have 6 arrivals in the next 15 minute is \\n{p(k,t)}')"
      ],
      "execution_count": null,
      "outputs": [
        {
          "output_type": "stream",
          "name": "stdout",
          "text": [
            "the probability that there will have 6 arrivals in the next 15 minute is \n",
            "9.474593255950692e-08\n"
          ]
        }
      ]
    },
    {
      "cell_type": "markdown",
      "metadata": {
        "id": "C14NX3HKS0rj"
      },
      "source": [
        "\n",
        "\n",
        "---\n",
        "\n"
      ]
    },
    {
      "cell_type": "markdown",
      "metadata": {
        "id": "DeDHeoc_RClW"
      },
      "source": [
        "Example 2 :"
      ]
    },
    {
      "cell_type": "code",
      "metadata": {
        "id": "xJVPX7dTRFv-"
      },
      "source": [
        "# Ex 2 : The probability that in the next 15 minute will have 6 arrival, and the next 30 minutes will have 15 arrival \n",
        "# These two events are overlapping\n",
        "\n",
        "k1, t1 = 6, 15\n",
        "k2, t2 = 15, 30"
      ],
      "execution_count": null,
      "outputs": []
    },
    {
      "cell_type": "code",
      "metadata": {
        "id": "WQ31waEjSbKv"
      },
      "source": [
        "# we prevenet overlapping by making the event 2 independent to event 1 by replace the event 2 by the difference between them\n",
        "\n",
        "prob = p(k1,t1) * p(k2-k1,t2-t1)"
      ],
      "execution_count": null,
      "outputs": []
    },
    {
      "cell_type": "code",
      "metadata": {
        "colab": {
          "base_uri": "https://localhost:8080/"
        },
        "id": "Ymi2umWjRuC0",
        "outputId": "a783bb3c-98f1-48eb-89db-09bf26cdeadd"
      },
      "source": [
        "print(f'The probability that in the next 15 minute will have 6 arrival, and the next 30 minutes will have 15 arrival is \\n {prob}')\n",
        "\n"
      ],
      "execution_count": null,
      "outputs": [
        {
          "output_type": "stream",
          "name": "stdout",
          "text": [
            "The probability that in the next 15 minute will have 6 arrival, and the next 30 minutes will have 15 arrival is \n",
            " 4.808995573162839e-13\n"
          ]
        }
      ]
    },
    {
      "cell_type": "markdown",
      "metadata": {
        "id": "e1dJL0zGQ_Dj"
      },
      "source": [
        "\n",
        "\n",
        "---\n",
        "\n"
      ]
    },
    {
      "cell_type": "markdown",
      "metadata": {
        "id": "HQ4E_xqgS-5T"
      },
      "source": [
        "# Interarrival time"
      ]
    },
    {
      "cell_type": "markdown",
      "metadata": {
        "id": "WEfJQmPFVrDo"
      },
      "source": [
        "- Interarrival time is the length of time between the occur of the current arrival and the next arrival"
      ]
    },
    {
      "cell_type": "markdown",
      "metadata": {
        "id": "HFgOUPRlVfQW"
      },
      "source": [
        "- unlike the count of Arrival which is poisson distributed, Inter-arrival time is exponentially distributed.. "
      ]
    },
    {
      "cell_type": "markdown",
      "metadata": {
        "id": "tTlW7L14fjP0"
      },
      "source": [
        "- The exponential distribution is the same idea as the geometric distribution, but it's continuous version of Geometric\n",
        "\n",
        "- This means the exponential distribution indicates the pdf of until the k is 1 (success)"
      ]
    },
    {
      "cell_type": "markdown",
      "metadata": {
        "id": "RpieG6ZCgqx3"
      },
      "source": [
        "<details>\n",
        "<summary><b>Geometric vs Exponential distribution visualization</b></summary>\n",
        "\n",
        "![](https://github.com/wallik2/PoissonProcess/blob/master/Picture/GeoExpo.png?raw=true)\n",
        "\n",
        "red indicates pdf of *Exponential distribution*  while teal indicates pmf of *Geometric distribution*\n",
        "\n",
        "</details>\n"
      ]
    },
    {
      "cell_type": "markdown",
      "metadata": {
        "id": "IoJtiJ5phO6k"
      },
      "source": [
        "- The pdf of exponential distribution for interarrival time is derived from Erlang distribution with k=1"
      ]
    },
    {
      "cell_type": "markdown",
      "metadata": {
        "id": "LacZrYYMhXES"
      },
      "source": [
        "<details>\n",
        "<summary><b>Erlang distribution visualization</b></summary>\n",
        "\n",
        "![](https://github.com/wallik2/PoissonProcess/blob/master/Picture/erlang%20distribution.png?raw=true)\n",
        "\n",
        "λ instead of μ for this case\n",
        "</details>"
      ]
    },
    {
      "cell_type": "markdown",
      "metadata": {
        "id": "h2HATAfTjgZP"
      },
      "source": [
        "- The input for that exp. function is time (y)"
      ]
    },
    {
      "cell_type": "markdown",
      "metadata": {
        "id": "uNiP2Cfql03L"
      },
      "source": [
        "## The probability function of Interarrival time"
      ]
    },
    {
      "cell_type": "code",
      "metadata": {
        "id": "_NFDTqh6S3mt"
      },
      "source": [
        "# Given the same parameter from the arrival count\n",
        "\n",
        "\n",
        "# The probability of Interarrival time function\n",
        "\n",
        "def f(y):\n",
        "  # y as time\n",
        "  return λ*e**(-λ*y)"
      ],
      "execution_count": null,
      "outputs": []
    },
    {
      "cell_type": "markdown",
      "metadata": {
        "id": "XdMmaXLVkxhz"
      },
      "source": [
        "Note : In this case : λ = 120/60 = 2"
      ]
    },
    {
      "cell_type": "code",
      "metadata": {
        "colab": {
          "base_uri": "https://localhost:8080/"
        },
        "id": "XgdqRL77kkD_",
        "outputId": "9d8d8842-6ac6-497a-cf49-4dfa4b8222e7"
      },
      "source": [
        "print(f'The chance that the new arrival will happen in a next half minute minute is \\n{f(0.5)}')"
      ],
      "execution_count": null,
      "outputs": [
        {
          "output_type": "stream",
          "name": "stdout",
          "text": [
            "The chance that the new arrival will happen in a next half minute minute is \n",
            "0.7357588823428847\n"
          ]
        }
      ]
    },
    {
      "cell_type": "code",
      "metadata": {
        "colab": {
          "base_uri": "https://localhost:8080/"
        },
        "id": "-ofO1sy1jXm5",
        "outputId": "efb38c98-9b29-47d3-d75b-cb873dff3f44"
      },
      "source": [
        "print(f'The chance that the new arrival will happen in the next minute is \\n{f(1)}')"
      ],
      "execution_count": null,
      "outputs": [
        {
          "output_type": "stream",
          "name": "stdout",
          "text": [
            "The chance that the new arrival will happen in the next minute is \n",
            "0.2706705664732254\n"
          ]
        }
      ]
    },
    {
      "cell_type": "code",
      "metadata": {
        "colab": {
          "base_uri": "https://localhost:8080/"
        },
        "id": "rD3lj16gkYRZ",
        "outputId": "841b54ba-c9b3-4a36-b875-c178055b8a7e"
      },
      "source": [
        "print(f'The chance that the new arrival will happen in the next 1.5 minute is \\n{f(1.5)}')"
      ],
      "execution_count": null,
      "outputs": [
        {
          "output_type": "stream",
          "name": "stdout",
          "text": [
            "The chance that the new arrival will happen in the next 1.5 minute is \n",
            "0.0995741367357279\n"
          ]
        }
      ]
    },
    {
      "cell_type": "code",
      "metadata": {
        "colab": {
          "base_uri": "https://localhost:8080/"
        },
        "id": "7tBnI0jykW_9",
        "outputId": "34b0b773-a672-4dbd-9989-8355af1247e4"
      },
      "source": [
        "print(f'The chance that the new arrival will happen in the next 2 minute is \\n{f(2)}')"
      ],
      "execution_count": null,
      "outputs": [
        {
          "output_type": "stream",
          "name": "stdout",
          "text": [
            "The chance that the new arrival will happen in the next 2 minute is \n",
            "0.03663127777746837\n"
          ]
        }
      ]
    },
    {
      "cell_type": "code",
      "metadata": {
        "colab": {
          "base_uri": "https://localhost:8080/"
        },
        "id": "ioGk0KsGlOxx",
        "outputId": "0ad9bf42-df6e-4721-e3fb-ddaf09e74004"
      },
      "source": [
        "print(f'The chance that the new arrival will happen in the next 1 hour is \\n{f(60)}')"
      ],
      "execution_count": null,
      "outputs": [
        {
          "output_type": "stream",
          "name": "stdout",
          "text": [
            "The chance that the new arrival will happen in the next 1 hour is \n",
            "1.5335296147444098e-52\n"
          ]
        }
      ]
    },
    {
      "cell_type": "markdown",
      "metadata": {
        "id": "jeyo0y7SlOQu"
      },
      "source": [
        "\n",
        "\n",
        "---\n",
        "\n"
      ]
    },
    {
      "cell_type": "markdown",
      "metadata": {
        "id": "8PHFKJe1l4nM"
      },
      "source": [
        "## The expected value and variance of Inter-arrival time"
      ]
    },
    {
      "cell_type": "markdown",
      "metadata": {
        "id": "OKA4lwIWnxeQ"
      },
      "source": [
        "- Since the interarrival time is an exponential random variable, so the expected valeu and variance is"
      ]
    },
    {
      "cell_type": "code",
      "metadata": {
        "id": "eddeaYgHmPFd"
      },
      "source": [
        "def E(λ):\n",
        "  return 1/λ\n",
        "\n",
        "def var(λ):\n",
        "  return 1/λ**2"
      ],
      "execution_count": null,
      "outputs": []
    },
    {
      "cell_type": "code",
      "metadata": {
        "colab": {
          "base_uri": "https://localhost:8080/"
        },
        "id": "sfAqJFSJl9Tb",
        "outputId": "a2b24290-7eef-4937-f964-7b4293720382"
      },
      "source": [
        "print(f'The expected value of Inter Arrival time is \\n {E(λ)}')\n",
        "\n",
        "print(f'The variance of Inter Arrival time \\n {var(λ)}')"
      ],
      "execution_count": null,
      "outputs": [
        {
          "output_type": "stream",
          "name": "stdout",
          "text": [
            "The expected value of Inter Arrival time is \n",
            " 0.5\n",
            "The variance of Inter Arrival time \n",
            " 0.25\n"
          ]
        }
      ]
    },
    {
      "cell_type": "markdown",
      "metadata": {
        "id": "y-0xJTRznPci"
      },
      "source": [
        "\n",
        "\n",
        "---\n",
        "\n"
      ]
    },
    {
      "cell_type": "code",
      "metadata": {
        "id": "I_6EgVLQkv6y"
      },
      "source": [
        ""
      ],
      "execution_count": null,
      "outputs": []
    }
  ]
}