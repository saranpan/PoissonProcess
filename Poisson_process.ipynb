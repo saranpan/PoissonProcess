{
  "nbformat": 4,
  "nbformat_minor": 0,
  "metadata": {
    "colab": {
      "name": "Poisson process",
      "provenance": [],
      "collapsed_sections": [],
      "include_colab_link": true
    },
    "kernelspec": {
      "name": "python3",
      "display_name": "Python 3"
    },
    "language_info": {
      "name": "python"
    }
  },
  "cells": [
    {
      "cell_type": "markdown",
      "metadata": {
        "id": "view-in-github",
        "colab_type": "text"
      },
      "source": [
        "<a href=\"https://colab.research.google.com/github/wallik2/PoissonProcess/blob/master/Poisson_process.ipynb\" target=\"_parent\"><img src=\"https://colab.research.google.com/assets/colab-badge.svg\" alt=\"Open In Colab\"/></a>"
      ]
    },
    {
      "cell_type": "markdown",
      "metadata": {
        "id": "jNDdUsAqV6Ga"
      },
      "source": [
        "<fieldset>\n",
        "\n",
        "**This notebook was dedicated for the student who are following the lecture Poisson process, and want to learn to code from scratch, so you can get the automation sense of creating them as automatic poisson process machine**\n",
        "\n",
        "                                 -Saran Pannasuriyaporn-"
      ]
    },
    {
      "cell_type": "markdown",
      "metadata": {
        "id": "rGRbLNfa4dYm"
      },
      "source": [
        "Let's start !!!"
      ]
    },
    {
      "cell_type": "markdown",
      "metadata": {
        "id": "_zLJdDuI4YZM"
      },
      "source": [
        "![](http://24.media.tumblr.com/2a36ba2a3016572f698ec19ad0051a39/tumblr_mrg3g8Nkbx1swdfc0o1_500.gif)"
      ]
    },
    {
      "cell_type": "markdown",
      "metadata": {
        "id": "iamd4t4uS4g7"
      },
      "source": [
        "# Arrival count"
      ]
    },
    {
      "cell_type": "markdown",
      "metadata": {
        "id": "mNm344SuioY_"
      },
      "source": [
        "- like the binomial distribution, but N is infinitely high, and p is infinitely small\n",
        "\n",
        "- λ = np\n",
        "\n",
        "- This mean the rate of approach to infinity of both n and p are the same, then λ is 1"
      ]
    },
    {
      "cell_type": "markdown",
      "metadata": {
        "id": "aX99Vh87i_B_"
      },
      "source": [
        "- p as the probability of success for the extremely small interval (δ)\n",
        "- n as the number of increment (τ/δ)"
      ]
    },
    {
      "cell_type": "code",
      "metadata": {
        "id": "w5YTmsKPGO7l"
      },
      "source": [
        "# The very small interval (δ) [the more small, the better precisely it is]\n",
        "\n",
        "δ = 1e-3\n",
        "\n",
        "# arrival rate (intense rate per τ)\n",
        "\n",
        "#given 120 ppl comes in 60 minutes\n",
        "#given τ = 60 minute\n",
        "\n",
        "λ = 120/60\n",
        "τ = 60"
      ],
      "execution_count": null,
      "outputs": []
    },
    {
      "cell_type": "code",
      "metadata": {
        "colab": {
          "base_uri": "https://localhost:8080/"
        },
        "id": "C9WskobrJ2M1",
        "outputId": "0321854e-a978-4f0b-eb5e-12094b22b0e0"
      },
      "source": [
        "# Expected value of number of arrival per δ\n",
        "\n",
        "print(f'the expected value of the number of arrival from (0,δ] : {δ*λ}')\n",
        "print(f'the variance of the number of arrival from (0,δ] : {δ*λ}')"
      ],
      "execution_count": null,
      "outputs": [
        {
          "output_type": "stream",
          "name": "stdout",
          "text": [
            "the expected value of the number of arrival from (0,δ] : 0.002\n",
            "the variance of the number of arrival from (0,δ] : 0.002\n"
          ]
        }
      ]
    },
    {
      "cell_type": "code",
      "metadata": {
        "id": "rRImunhuLqfk"
      },
      "source": [
        "p = δ*λ\n",
        "\n",
        "m = int(τ/δ)"
      ],
      "execution_count": null,
      "outputs": []
    },
    {
      "cell_type": "markdown",
      "metadata": {
        "id": "wcJAzyRgLQIx"
      },
      "source": [
        "\n",
        "\n",
        "---\n",
        "\n"
      ]
    },
    {
      "cell_type": "code",
      "metadata": {
        "id": "StA2jp_4LaJF"
      },
      "source": [
        "from numpy import random, where"
      ],
      "execution_count": null,
      "outputs": []
    },
    {
      "cell_type": "code",
      "metadata": {
        "id": "mujxAnPpNHwT"
      },
      "source": [
        "random.seed(42)"
      ],
      "execution_count": null,
      "outputs": []
    },
    {
      "cell_type": "code",
      "metadata": {
        "id": "yXqAT_jWLTVI"
      },
      "source": [
        "simulatation = random.binomial(1,p,m)"
      ],
      "execution_count": null,
      "outputs": []
    },
    {
      "cell_type": "code",
      "metadata": {
        "id": "k5CAruxqMqMb"
      },
      "source": [
        "count_one = where(simulatation == 1)[0].shape[0]\n",
        "\n",
        "count_zero = m-count_one"
      ],
      "execution_count": null,
      "outputs": []
    },
    {
      "cell_type": "code",
      "metadata": {
        "colab": {
          "base_uri": "https://localhost:8080/"
        },
        "id": "Evv92YtJNUjG",
        "outputId": "0699fd12-87d8-407f-d9bc-17aa0409f234"
      },
      "source": [
        "# Estimated of probability of count = one\n",
        "\n",
        "count_one/m"
      ],
      "execution_count": null,
      "outputs": [
        {
          "output_type": "execute_result",
          "data": {
            "text/plain": [
              "0.0018833333333333334"
            ]
          },
          "metadata": {},
          "execution_count": 181
        }
      ]
    },
    {
      "cell_type": "code",
      "metadata": {
        "colab": {
          "base_uri": "https://localhost:8080/"
        },
        "id": "0PRY-73-OASW",
        "outputId": "c1c48dc3-f205-4843-80ab-8b4352acba14"
      },
      "source": [
        "# True probability of count = one\n",
        "\n",
        "δ"
      ],
      "execution_count": null,
      "outputs": [
        {
          "output_type": "execute_result",
          "data": {
            "text/plain": [
              "0.001"
            ]
          },
          "metadata": {},
          "execution_count": 182
        }
      ]
    },
    {
      "cell_type": "markdown",
      "metadata": {
        "id": "RI_wGgmFORij"
      },
      "source": [
        "\n",
        "\n",
        "---\n",
        "\n"
      ]
    },
    {
      "cell_type": "code",
      "metadata": {
        "colab": {
          "base_uri": "https://localhost:8080/"
        },
        "id": "XX-VAwfSOSei",
        "outputId": "245356e0-a325-40bd-bebf-54138540231b"
      },
      "source": [
        "# Simulation\n",
        "\n",
        "print(f'the total number of arrival : {count_one}')"
      ],
      "execution_count": null,
      "outputs": [
        {
          "output_type": "stream",
          "name": "stdout",
          "text": [
            "the total number of arrival : 113\n"
          ]
        }
      ]
    },
    {
      "cell_type": "markdown",
      "metadata": {
        "id": "2lQaOSmCOp4j"
      },
      "source": [
        "\n",
        "\n",
        "---\n",
        "\n"
      ]
    },
    {
      "cell_type": "markdown",
      "metadata": {
        "id": "HmwVx69iPDjL"
      },
      "source": [
        "Example 1 :"
      ]
    },
    {
      "cell_type": "markdown",
      "metadata": {
        "id": "XGdQ9cyGTj2-"
      },
      "source": [
        "Warning : Try high k is not recommended, due to the overflow of factorial(k)"
      ]
    },
    {
      "cell_type": "code",
      "metadata": {
        "id": "ziOgM1jHPDOj"
      },
      "source": [
        "from scipy.special import factorial \n",
        "from numpy import e"
      ],
      "execution_count": null,
      "outputs": []
    },
    {
      "cell_type": "code",
      "metadata": {
        "id": "2aUytg3NOkVG"
      },
      "source": [
        "# Ex 1 :The probability of getting 6 arrival in 15 minutes\n",
        "# Given the number of arrival follows Poisson distribution\n",
        "\n",
        "k, t = 6, 15"
      ],
      "execution_count": null,
      "outputs": []
    },
    {
      "cell_type": "code",
      "metadata": {
        "id": "f6EV70nzQluI"
      },
      "source": [
        "# Poisson distribution given k,t\n",
        "def p(k,t):\n",
        "  return (  ( e**(-λ*t) *  (λ*t)**k  )/ factorial(k)  )"
      ],
      "execution_count": null,
      "outputs": []
    },
    {
      "cell_type": "code",
      "metadata": {
        "colab": {
          "base_uri": "https://localhost:8080/"
        },
        "id": "oJrH6xETQIC3",
        "outputId": "d7448b28-1b80-4f67-d001-0b0820a52868"
      },
      "source": [
        "# Solution :\n",
        "\n",
        "print(f'the probability that there will have 6 arrivals in the next 15 minute is \\n{p(k,t)}')"
      ],
      "execution_count": null,
      "outputs": [
        {
          "output_type": "stream",
          "name": "stdout",
          "text": [
            "the probability that there will have 6 arrivals in the next 15 minute is \n",
            "9.474593255950692e-08\n"
          ]
        }
      ]
    },
    {
      "cell_type": "markdown",
      "metadata": {
        "id": "C14NX3HKS0rj"
      },
      "source": [
        "\n",
        "\n",
        "---\n",
        "\n"
      ]
    },
    {
      "cell_type": "markdown",
      "metadata": {
        "id": "DeDHeoc_RClW"
      },
      "source": [
        "Example 2 :"
      ]
    },
    {
      "cell_type": "code",
      "metadata": {
        "id": "xJVPX7dTRFv-"
      },
      "source": [
        "# Ex 2 : The probability that in the next 15 minute will have 6 arrival, and the next 30 minutes will have 15 arrival \n",
        "# These two events are overlapping\n",
        "\n",
        "k1, t1 = 6, 15\n",
        "k2, t2 = 15, 30"
      ],
      "execution_count": null,
      "outputs": []
    },
    {
      "cell_type": "code",
      "metadata": {
        "id": "WQ31waEjSbKv"
      },
      "source": [
        "# we prevenet overlapping by making the event 2 independent to event 1 by replace the event 2 by the difference between them\n",
        "\n",
        "prob = p(k1,t1) * p(k2-k1,t2-t1)"
      ],
      "execution_count": null,
      "outputs": []
    },
    {
      "cell_type": "code",
      "metadata": {
        "colab": {
          "base_uri": "https://localhost:8080/"
        },
        "id": "Ymi2umWjRuC0",
        "outputId": "27bd0ba1-712d-4112-8051-753b3dee59eb"
      },
      "source": [
        "print(f'The probability that in the next 15 minute will have 6 arrival, and the next 30 minutes will have 15 arrival is \\n {prob}')\n",
        "\n"
      ],
      "execution_count": null,
      "outputs": [
        {
          "output_type": "stream",
          "name": "stdout",
          "text": [
            "The probability that in the next 15 minute will have 6 arrival, and the next 30 minutes will have 15 arrival is \n",
            " 4.808995573162839e-13\n"
          ]
        }
      ]
    },
    {
      "cell_type": "markdown",
      "metadata": {
        "id": "e1dJL0zGQ_Dj"
      },
      "source": [
        "\n",
        "\n",
        "---\n",
        "\n"
      ]
    },
    {
      "cell_type": "markdown",
      "metadata": {
        "id": "HQ4E_xqgS-5T"
      },
      "source": [
        "# Interarrival time"
      ]
    },
    {
      "cell_type": "markdown",
      "metadata": {
        "id": "WEfJQmPFVrDo"
      },
      "source": [
        "- Interarrival time is the length of time between the occur of the current arrival and the next arrival"
      ]
    },
    {
      "cell_type": "markdown",
      "metadata": {
        "id": "HFgOUPRlVfQW"
      },
      "source": [
        "- unlike the count of Arrival which is poisson distributed, Inter-arrival time is exponentially distributed.. "
      ]
    },
    {
      "cell_type": "markdown",
      "metadata": {
        "id": "tTlW7L14fjP0"
      },
      "source": [
        "- The exponential distribution is the same idea as the geometric distribution, but it's continuous version of Geometric\n",
        "\n",
        "- This means the exponential distribution indicates the pdf of until the k is 1 (success)"
      ]
    },
    {
      "cell_type": "markdown",
      "metadata": {
        "id": "RpieG6ZCgqx3"
      },
      "source": [
        "<details>\n",
        "<summary><b>Geometric vs Exponential distribution visualization</b></summary>\n",
        "\n",
        "![](https://github.com/wallik2/PoissonProcess/blob/master/Picture/GeoExpo.png?raw=true)\n",
        "\n",
        "red indicates pdf of *Exponential distribution*  while teal indicates pmf of *Geometric distribution*\n",
        "\n",
        "</details>\n"
      ]
    },
    {
      "cell_type": "markdown",
      "metadata": {
        "id": "IoJtiJ5phO6k"
      },
      "source": [
        "- The pdf of exponential distribution for interarrival time is derived from Erlang distribution with k=1"
      ]
    },
    {
      "cell_type": "markdown",
      "metadata": {
        "id": "LacZrYYMhXES"
      },
      "source": [
        "<details>\n",
        "<summary><b>Erlang distribution visualization</b></summary>\n",
        "\n",
        "![](https://github.com/wallik2/PoissonProcess/blob/master/Picture/erlang%20distribution.png?raw=true)\n",
        "\n",
        "λ instead of μ for this case\n",
        "</details>"
      ]
    },
    {
      "cell_type": "markdown",
      "metadata": {
        "id": "h2HATAfTjgZP"
      },
      "source": [
        "- The input for that exp. function is time (y)"
      ]
    },
    {
      "cell_type": "markdown",
      "metadata": {
        "id": "uNiP2Cfql03L"
      },
      "source": [
        "## The probability function of Interarrival time"
      ]
    },
    {
      "cell_type": "code",
      "metadata": {
        "id": "_NFDTqh6S3mt"
      },
      "source": [
        "# Given the same parameter from the arrival count\n",
        "\n",
        "\n",
        "# The probability of Interarrival time function\n",
        "\n",
        "def f(y):\n",
        "  # y as time\n",
        "  return λ*e**(-λ*y)"
      ],
      "execution_count": null,
      "outputs": []
    },
    {
      "cell_type": "markdown",
      "metadata": {
        "id": "XdMmaXLVkxhz"
      },
      "source": [
        "Note : In this case : λ = 120/60 = 2"
      ]
    },
    {
      "cell_type": "code",
      "metadata": {
        "colab": {
          "base_uri": "https://localhost:8080/"
        },
        "id": "XgdqRL77kkD_",
        "outputId": "accab902-d629-440b-c05e-147f5144409e"
      },
      "source": [
        "print(f'The chance that the new arrival will happen in a next half minute minute is \\n{f(0.5)}')"
      ],
      "execution_count": null,
      "outputs": [
        {
          "output_type": "stream",
          "name": "stdout",
          "text": [
            "The chance that the new arrival will happen in a next half minute minute is \n",
            "0.7357588823428847\n"
          ]
        }
      ]
    },
    {
      "cell_type": "code",
      "metadata": {
        "colab": {
          "base_uri": "https://localhost:8080/"
        },
        "id": "-ofO1sy1jXm5",
        "outputId": "584e9ca5-6fb6-492d-f9d1-3ad0fb5c8f9b"
      },
      "source": [
        "print(f'The chance that the new arrival will happen in the next minute is \\n{f(1)}')"
      ],
      "execution_count": null,
      "outputs": [
        {
          "output_type": "stream",
          "name": "stdout",
          "text": [
            "The chance that the new arrival will happen in the next minute is \n",
            "0.2706705664732254\n"
          ]
        }
      ]
    },
    {
      "cell_type": "code",
      "metadata": {
        "colab": {
          "base_uri": "https://localhost:8080/"
        },
        "id": "rD3lj16gkYRZ",
        "outputId": "66b35d16-4aac-4bcc-c567-123072d20a43"
      },
      "source": [
        "print(f'The chance that the new arrival will happen in the next 1.5 minute is \\n{f(1.5)}')"
      ],
      "execution_count": null,
      "outputs": [
        {
          "output_type": "stream",
          "name": "stdout",
          "text": [
            "The chance that the new arrival will happen in the next 1.5 minute is \n",
            "0.0995741367357279\n"
          ]
        }
      ]
    },
    {
      "cell_type": "code",
      "metadata": {
        "colab": {
          "base_uri": "https://localhost:8080/"
        },
        "id": "7tBnI0jykW_9",
        "outputId": "c6e19fe5-5e77-42cc-a73c-5e13abfa8683"
      },
      "source": [
        "print(f'The chance that the new arrival will happen in the next 2 minute is \\n{f(2)}')"
      ],
      "execution_count": null,
      "outputs": [
        {
          "output_type": "stream",
          "name": "stdout",
          "text": [
            "The chance that the new arrival will happen in the next 2 minute is \n",
            "0.03663127777746837\n"
          ]
        }
      ]
    },
    {
      "cell_type": "code",
      "metadata": {
        "colab": {
          "base_uri": "https://localhost:8080/"
        },
        "id": "ioGk0KsGlOxx",
        "outputId": "aeef4ba8-d70d-41c1-df1b-55e7bcc31da8"
      },
      "source": [
        "print(f'The chance that the new arrival will happen in the next 1 hour is \\n{f(60)}')"
      ],
      "execution_count": null,
      "outputs": [
        {
          "output_type": "stream",
          "name": "stdout",
          "text": [
            "The chance that the new arrival will happen in the next 1 hour is \n",
            "1.5335296147444098e-52\n"
          ]
        }
      ]
    },
    {
      "cell_type": "markdown",
      "metadata": {
        "id": "jeyo0y7SlOQu"
      },
      "source": [
        "\n",
        "\n",
        "---\n",
        "\n"
      ]
    },
    {
      "cell_type": "markdown",
      "metadata": {
        "id": "8PHFKJe1l4nM"
      },
      "source": [
        "## The expected value and variance of Inter-arrival time"
      ]
    },
    {
      "cell_type": "markdown",
      "metadata": {
        "id": "OKA4lwIWnxeQ"
      },
      "source": [
        "- Since the interarrival time is an exponential random variable, so the expected valeu and variance is"
      ]
    },
    {
      "cell_type": "code",
      "metadata": {
        "id": "eddeaYgHmPFd"
      },
      "source": [
        "def E(λ):\n",
        "  return 1/λ\n",
        "\n",
        "def var(λ):\n",
        "  return 1/λ**2"
      ],
      "execution_count": null,
      "outputs": []
    },
    {
      "cell_type": "code",
      "metadata": {
        "colab": {
          "base_uri": "https://localhost:8080/"
        },
        "id": "sfAqJFSJl9Tb",
        "outputId": "f3af72b1-f701-4b26-a503-8e107c1b8ddb"
      },
      "source": [
        "print(f'The expected value of Inter Arrival time is \\n {E(λ)}')\n",
        "\n",
        "print(f'The variance of Inter Arrival time \\n {var(λ)}')"
      ],
      "execution_count": null,
      "outputs": [
        {
          "output_type": "stream",
          "name": "stdout",
          "text": [
            "The expected value of Inter Arrival time is \n",
            " 0.5\n",
            "The variance of Inter Arrival time \n",
            " 0.25\n"
          ]
        }
      ]
    },
    {
      "cell_type": "markdown",
      "metadata": {
        "id": "y-0xJTRznPci"
      },
      "source": [
        "\n",
        "\n",
        "---\n",
        "\n"
      ]
    },
    {
      "cell_type": "code",
      "metadata": {
        "id": "I_6EgVLQkv6y"
      },
      "source": [
        ""
      ],
      "execution_count": null,
      "outputs": []
    },
    {
      "cell_type": "markdown",
      "metadata": {
        "id": "-Qqh0n66um8U"
      },
      "source": [
        "# Merge & Splitting the poisson processes"
      ]
    },
    {
      "cell_type": "code",
      "metadata": {
        "id": "0xdczrOOuxag"
      },
      "source": [
        "# There are 2 processes in this case\n",
        "\n",
        "λ_1 , λ_2 = 2, 5\n"
      ],
      "execution_count": null,
      "outputs": []
    },
    {
      "cell_type": "code",
      "metadata": {
        "id": "ZWVxYhoAu9E3"
      },
      "source": [
        "p_1, p_2 = (λ_1 * δ) , (λ_2 * δ)"
      ],
      "execution_count": null,
      "outputs": []
    },
    {
      "cell_type": "code",
      "metadata": {
        "id": "wd-McZ7NvYLp"
      },
      "source": [
        "process_1 = random.binomial(1,p_1,m)\n",
        "process_2 = random.binomial(1,p_2,m)\n",
        "\n",
        "merged_process = (process_1 | process_2)"
      ],
      "execution_count": null,
      "outputs": []
    },
    {
      "cell_type": "code",
      "metadata": {
        "id": "Bc8dcdEqvtVW"
      },
      "source": [
        "#@title Arrival count function ( arrival_count(process) ) {display-mode: \"form\"}\n",
        "\n",
        "def arrival_count(process):\n",
        "  return len(where(process == 1)[0] * δ)"
      ],
      "execution_count": null,
      "outputs": []
    },
    {
      "cell_type": "code",
      "metadata": {
        "id": "x9dFld92xGF4"
      },
      "source": [
        "#@title Plot function (plot1d()) {display-mode: \"form\"}\n",
        "import matplotlib.pyplot as plt, matplotlib.cbook as cb\n",
        "import warnings\n",
        "warnings.filterwarnings(\"ignore\",category=cb.mplDeprecation)\n",
        "\n",
        "\n",
        "def plot1d(process,process_name):\n",
        "# set up the figure\n",
        "\n",
        "  \n",
        "  fig = plt.figure(figsize=(21, 0.5), dpi=80)\n",
        "  ax = fig.add_subplot(111)\n",
        "  ax.set_xlim(0,τ)\n",
        "  ax.set_ylim(0,τ)\n",
        "\n",
        "  ax.set_title(process_name,fontsize=20)\n",
        "\n",
        "# draw lines\n",
        "  xmin = 0\n",
        "  xmax = τ\n",
        "  \n",
        "  y = [5] * len(where(process == 1)[0] * δ)\n",
        "  y_pop = 5\n",
        "  height = 1\n",
        "\n",
        "  plt.hlines(y_pop, xmin, xmax)\n",
        "  plt.vlines(xmin, y_pop - height / 2., y_pop + height / 2.)\n",
        "  plt.vlines(xmax, y_pop - height / 2., y_pop + height / 2.)\n",
        "\n",
        "# draw a point on the line\n",
        "  px = where(process == 1)[0] * δ\n",
        "  plt.plot(px, y, 'ro', ms = 15, mfc = 'r',markersize=1)\n",
        "\n",
        "\n",
        "# add numbers\n",
        "  plt.text(xmin - 0.1, y_pop, '0', horizontalalignment='right')\n",
        "  plt.text(xmax + 0.1, y_pop, str(τ), horizontalalignment='left')\n",
        "  #plt.axis('off')\n",
        "  ax.set_frame_on(False)\n",
        "  ax.get_xaxis().tick_bottom()\n",
        "  ax.axes.get_yaxis().set_visible(False)\n",
        "\n",
        "  plt.show()"
      ],
      "execution_count": null,
      "outputs": []
    },
    {
      "cell_type": "code",
      "metadata": {
        "colab": {
          "base_uri": "https://localhost:8080/",
          "height": 248
        },
        "id": "8iPbklXD1b63",
        "outputId": "713b9563-98ba-40ab-8b27-d2cab2b17cd1"
      },
      "source": [
        "#@title Plot the Processes {display-mode: \"form\"}\n",
        "\n",
        "\n",
        "\n",
        "plot1d(process_1,'Process 1')\n",
        "plot1d(merged_process,'Merged process')\n",
        "plot1d(process_2,'Process 2')"
      ],
      "execution_count": null,
      "outputs": [
        {
          "output_type": "display_data",
          "data": {
            "image/png": "[encoded data removed]",
            "text/plain": [
              "<Figure size 1680x40 with 1 Axes>"
            ]
          },
          "metadata": {
            "needs_background": "light"
          }
        },
        {
          "output_type": "display_data",
          "data": {
            "image/png": "[encoded data removed]",
            "text/plain": [
              "<Figure size 1680x40 with 1 Axes>"
            ]
          },
          "metadata": {
            "needs_background": "light"
          }
        },
        {
          "output_type": "display_data",
          "data": {
            "image/png": "[encoded data removed]",
            "text/plain": [
              "<Figure size 1680x40 with 1 Axes>"
            ]
          },
          "metadata": {
            "needs_background": "light"
          }
        }
      ]
    },
    {
      "cell_type": "code",
      "metadata": {
        "colab": {
          "base_uri": "https://localhost:8080/"
        },
        "id": "wz7EipL85cux",
        "outputId": "9ba497a3-4ab6-4908-e4b6-14b7235142ec"
      },
      "source": [
        "#@title Report the Processes {display-mode: \"form\"}\n",
        "print('='*60)\n",
        "print(f'|             out of {m} arrival counts                   |')\n",
        "print('='*60)\n",
        "print(f'     Process 1 has a total number of arrival : {arrival_count(process_1)}')\n",
        "print(f'     Process 2 has a total number of arrival : {arrival_count(process_2)}')\n",
        "print(f'     Merged process has a total number of arrival : {arrival_count(merged_process)}')\n",
        "print('='*60)"
      ],
      "execution_count": null,
      "outputs": [
        {
          "output_type": "stream",
          "name": "stdout",
          "text": [
            "============================================================\n",
            "|             out of 60000 arrival counts                   |\n",
            "============================================================\n",
            "     Process 1 has a total number of arrival : 119\n",
            "     Process 2 has a total number of arrival : 317\n",
            "     Merged process has a total number of arrival : 436\n",
            "============================================================\n"
          ]
        }
      ]
    },
    {
      "cell_type": "markdown",
      "metadata": {
        "id": "DBiq-pDZ7yVv"
      },
      "source": [
        ".#Help : I try to figure out how to plot blue mark dot for Process 2, so we can clearly see which process is in this merge process"
      ]
    },
    {
      "cell_type": "markdown",
      "metadata": {
        "id": "-emkhWio8KqD"
      },
      "source": [
        "\n",
        "\n",
        "---\n",
        "\n"
      ]
    },
    {
      "cell_type": "code",
      "metadata": {
        "colab": {
          "base_uri": "https://localhost:8080/"
        },
        "id": "vtBSYKwg6dX7",
        "outputId": "0d442d1f-ee5c-4b73-f38b-c928117c350f"
      },
      "source": [
        "# since the merged process is still a poisson process, so \n",
        "# we are interested at the chance that the arrival event in merged process belong to which process\n",
        "\n",
        "λ_merged = λ_1 + λ_2\n",
        "\n",
        "print(f'The probability that the arrival belong to process 1 in the merged process : {λ_1/λ_merged}')\n",
        "print(f'The probability that the arrival belong to process 1 in the merged process : {λ_2/λ_merged}')"
      ],
      "execution_count": null,
      "outputs": [
        {
          "output_type": "stream",
          "name": "stdout",
          "text": [
            "The probability that the arrival belong to process 1 in the merged process : 0.2857142857142857\n",
            "The probability that the arrival belong to process 1 in the merged process : 0.7142857142857143\n"
          ]
        }
      ]
    },
    {
      "cell_type": "code",
      "metadata": {
        "id": "oG6OBlrp_Zel"
      },
      "source": [
        ""
      ],
      "execution_count": null,
      "outputs": []
    }
  ]
}